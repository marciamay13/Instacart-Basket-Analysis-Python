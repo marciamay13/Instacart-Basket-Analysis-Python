{
 "cells": [
  {
   "cell_type": "markdown",
   "id": "9e7e7083",
   "metadata": {},
   "source": [
    "# 01. Importing Libraries"
   ]
  },
  {
   "cell_type": "code",
   "execution_count": 2,
   "id": "cb6d84d7",
   "metadata": {},
   "outputs": [],
   "source": [
    "# Import libraries\n",
    "import pandas as pd\n",
    "import numpy as np\n",
    "import os"
   ]
  },
  {
   "cell_type": "markdown",
   "id": "88d82680",
   "metadata": {},
   "source": [
    "# 02. Python Data Types"
   ]
  },
  {
   "cell_type": "code",
   "execution_count": 1,
   "id": "b93c1eaa",
   "metadata": {},
   "outputs": [],
   "source": [
    "# Code 3 different ways of reaching a result of 100 by adding or subtracting numeric values."
   ]
  },
  {
   "cell_type": "code",
   "execution_count": 2,
   "id": "1eb975bf",
   "metadata": {},
   "outputs": [],
   "source": [
    "x = 100"
   ]
  },
  {
   "cell_type": "code",
   "execution_count": 3,
   "id": "9fcee7a7",
   "metadata": {},
   "outputs": [],
   "source": [
    "y = 200"
   ]
  },
  {
   "cell_type": "code",
   "execution_count": 23,
   "id": "b269150d",
   "metadata": {},
   "outputs": [
    {
     "data": {
      "text/plain": [
       "100"
      ]
     },
     "execution_count": 23,
     "metadata": {},
     "output_type": "execute_result"
    }
   ],
   "source": [
    "y - x"
   ]
  },
  {
   "cell_type": "code",
   "execution_count": 8,
   "id": "1edfab44",
   "metadata": {},
   "outputs": [],
   "source": [
    "z = 50"
   ]
  },
  {
   "cell_type": "code",
   "execution_count": 24,
   "id": "8c6d3799",
   "metadata": {},
   "outputs": [
    {
     "data": {
      "text/plain": [
       "100"
      ]
     },
     "execution_count": 24,
     "metadata": {},
     "output_type": "execute_result"
    }
   ],
   "source": [
    "z + z"
   ]
  },
  {
   "cell_type": "code",
   "execution_count": 11,
   "id": "eeb0592f",
   "metadata": {},
   "outputs": [],
   "source": [
    "a = 25"
   ]
  },
  {
   "cell_type": "code",
   "execution_count": 25,
   "id": "ae7784ca",
   "metadata": {},
   "outputs": [
    {
     "data": {
      "text/plain": [
       "100"
      ]
     },
     "execution_count": 25,
     "metadata": {},
     "output_type": "execute_result"
    }
   ],
   "source": [
    "a + a + z"
   ]
  },
  {
   "cell_type": "code",
   "execution_count": 15,
   "id": "070f7f4e",
   "metadata": {},
   "outputs": [],
   "source": [
    "# Code 2 floating-point variables and divide them by each other"
   ]
  },
  {
   "cell_type": "code",
   "execution_count": 16,
   "id": "c2a16842",
   "metadata": {},
   "outputs": [],
   "source": [
    "b = 2.25"
   ]
  },
  {
   "cell_type": "code",
   "execution_count": 17,
   "id": "2532ea3d",
   "metadata": {},
   "outputs": [],
   "source": [
    "c = 5.5"
   ]
  },
  {
   "cell_type": "code",
   "execution_count": 22,
   "id": "6ec35dd6",
   "metadata": {},
   "outputs": [
    {
     "data": {
      "text/plain": [
       "2.4444444444444446"
      ]
     },
     "execution_count": 22,
     "metadata": {},
     "output_type": "execute_result"
    }
   ],
   "source": [
    "c / b"
   ]
  },
  {
   "cell_type": "code",
   "execution_count": 26,
   "id": "7f6e788d",
   "metadata": {},
   "outputs": [
    {
     "data": {
      "text/plain": [
       "0.4090909090909091"
      ]
     },
     "execution_count": 26,
     "metadata": {},
     "output_type": "execute_result"
    }
   ],
   "source": [
    "b / c"
   ]
  },
  {
   "cell_type": "code",
   "execution_count": 30,
   "id": "f79da6d2",
   "metadata": {},
   "outputs": [],
   "source": [
    "d = 'Thank '"
   ]
  },
  {
   "cell_type": "code",
   "execution_count": 21,
   "id": "fc03c9ed",
   "metadata": {},
   "outputs": [],
   "source": [
    "e = 'you'"
   ]
  },
  {
   "cell_type": "code",
   "execution_count": 31,
   "id": "6e19c094",
   "metadata": {},
   "outputs": [
    {
     "data": {
      "text/plain": [
       "'Thank you'"
      ]
     },
     "execution_count": 31,
     "metadata": {},
     "output_type": "execute_result"
    }
   ],
   "source": [
    "d + e"
   ]
  },
  {
   "cell_type": "code",
   "execution_count": 32,
   "id": "cae3ee9b",
   "metadata": {},
   "outputs": [],
   "source": [
    "f = 'How are you '"
   ]
  },
  {
   "cell_type": "code",
   "execution_count": 33,
   "id": "504c2846",
   "metadata": {},
   "outputs": [],
   "source": [
    "g = 'doing today?'"
   ]
  },
  {
   "cell_type": "code",
   "execution_count": 34,
   "id": "0d4b7971",
   "metadata": {},
   "outputs": [
    {
     "data": {
      "text/plain": [
       "'How are you doing today?'"
      ]
     },
     "execution_count": 34,
     "metadata": {},
     "output_type": "execute_result"
    }
   ],
   "source": [
    "f + g"
   ]
  },
  {
   "cell_type": "code",
   "execution_count": null,
   "id": "84429ef5",
   "metadata": {},
   "outputs": [],
   "source": []
  }
 ],
 "metadata": {
  "kernelspec": {
   "display_name": "Python 3 (ipykernel)",
   "language": "python",
   "name": "python3"
  },
  "language_info": {
   "codemirror_mode": {
    "name": "ipython",
    "version": 3
   },
   "file_extension": ".py",
   "mimetype": "text/x-python",
   "name": "python",
   "nbconvert_exporter": "python",
   "pygments_lexer": "ipython3",
   "version": "3.11.5"
  }
 },
 "nbformat": 4,
 "nbformat_minor": 5
}
