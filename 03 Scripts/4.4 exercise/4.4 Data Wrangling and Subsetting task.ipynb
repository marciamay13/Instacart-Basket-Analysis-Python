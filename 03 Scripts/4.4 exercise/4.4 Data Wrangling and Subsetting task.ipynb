{
 "cells": [
  {
   "cell_type": "markdown",
   "id": "8531006a",
   "metadata": {},
   "source": [
    "# 01. Importing Libraries"
   ]
  },
  {
   "cell_type": "code",
   "execution_count": 1,
   "id": "ee2208cb",
   "metadata": {},
   "outputs": [],
   "source": [
    "# Import Libraries\n",
    "import pandas as pd\n",
    "import numpy as np\n",
    "import os"
   ]
  },
  {
   "cell_type": "markdown",
   "id": "6496a825",
   "metadata": {},
   "source": [
    "# 02. Importing Data"
   ]
  },
  {
   "cell_type": "code",
   "execution_count": 2,
   "id": "64418e06",
   "metadata": {},
   "outputs": [],
   "source": [
    "# Importing orders.csv"
   ]
  },
  {
   "cell_type": "code",
   "execution_count": 3,
   "id": "3267c9e6",
   "metadata": {},
   "outputs": [],
   "source": [
    "df_ords = pd.read_csv(r'C:\\Users\\marci\\OneDrive\\Desktop\\Career Foundary\\Instacart Basket Analysis\\02 Data\\Original Data\\orders.csv', index_col = False)"
   ]
  },
  {
   "cell_type": "code",
   "execution_count": 5,
   "id": "2b38cbc3",
   "metadata": {},
   "outputs": [],
   "source": [
    "# Creating a path"
   ]
  },
  {
   "cell_type": "code",
   "execution_count": 6,
   "id": "99e9abbb",
   "metadata": {},
   "outputs": [],
   "source": [
    "path = r'C:\\Users\\marci\\OneDrive\\Desktop\\Career Foundary\\Instacart Basket Analysis'"
   ]
  },
  {
   "cell_type": "code",
   "execution_count": 7,
   "id": "89e63b21",
   "metadata": {},
   "outputs": [
    {
     "data": {
      "text/plain": [
       "'C:\\\\Users\\\\marci\\\\OneDrive\\\\Desktop\\\\Career Foundary\\\\Instacart Basket Analysis'"
      ]
     },
     "execution_count": 7,
     "metadata": {},
     "output_type": "execute_result"
    }
   ],
   "source": [
    "path"
   ]
  },
  {
   "cell_type": "code",
   "execution_count": 8,
   "id": "26e8f50e",
   "metadata": {},
   "outputs": [],
   "source": [
    "# importing products.csv"
   ]
  },
  {
   "cell_type": "code",
   "execution_count": 9,
   "id": "5f5d1ed2",
   "metadata": {},
   "outputs": [],
   "source": [
    "df_prods = pd.read_csv(os.path.join(path, '02 Data', 'Original Data', 'products.csv'), index_col = False)"
   ]
  },
  {
   "cell_type": "code",
   "execution_count": null,
   "id": "3fd09429",
   "metadata": {},
   "outputs": [],
   "source": []
  }
 ],
 "metadata": {
  "kernelspec": {
   "display_name": "Python 3 (ipykernel)",
   "language": "python",
   "name": "python3"
  },
  "language_info": {
   "codemirror_mode": {
    "name": "ipython",
    "version": 3
   },
   "file_extension": ".py",
   "mimetype": "text/x-python",
   "name": "python",
   "nbconvert_exporter": "python",
   "pygments_lexer": "ipython3",
   "version": "3.11.5"
  }
 },
 "nbformat": 4,
 "nbformat_minor": 5
}
