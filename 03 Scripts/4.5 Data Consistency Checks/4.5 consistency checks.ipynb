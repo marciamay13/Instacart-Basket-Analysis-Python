{
 "cells": [
  {
   "cell_type": "markdown",
   "id": "9953e541",
   "metadata": {},
   "source": [
    "# 01. Importing Libraries"
   ]
  },
  {
   "cell_type": "code",
   "execution_count": 21,
   "id": "c79cf608",
   "metadata": {},
   "outputs": [],
   "source": [
    "# Import libraries\n",
    "import pandas as pd\n",
    "import numpy as np\n",
    "import os"
   ]
  },
  {
   "cell_type": "markdown",
   "id": "cd234328",
   "metadata": {},
   "source": [
    "# 02. Importing Data"
   ]
  },
  {
   "cell_type": "code",
   "execution_count": 43,
   "id": "905d8cf0",
   "metadata": {},
   "outputs": [],
   "source": [
    "path = r'C:\\Users\\marci\\OneDrive\\Desktop\\Career Foundary\\Instacart Basket Analysis'"
   ]
  },
  {
   "cell_type": "code",
   "execution_count": 45,
   "id": "86fe3901",
   "metadata": {},
   "outputs": [],
   "source": [
    "# importing products.csv\n",
    "\n",
    "df_prods = pd.read_csv(os.path.join(path, '02 Data', 'Original Data', 'products.csv'), index_col = False)"
   ]
  },
  {
   "cell_type": "code",
   "execution_count": 23,
   "id": "17160039",
   "metadata": {},
   "outputs": [],
   "source": [
    "# importing orders_wrangled.csv\n",
    "\n",
    "df_ords = pd.read_csv(r'C:\\Users\\marci\\OneDrive\\Desktop\\Career Foundary\\Instacart Basket Analysis\\02 Data\\Prepared Data\\orders_wrangled.csv', index_col = False)"
   ]
  },
  {
   "cell_type": "markdown",
   "id": "f9db6a03",
   "metadata": {},
   "source": [
    "# 03. Consistency Checks"
   ]
  },
  {
   "cell_type": "code",
   "execution_count": 24,
   "id": "22087f4b",
   "metadata": {},
   "outputs": [],
   "source": [
    "# Create a dataframe\n",
    "\n",
    "df_test = pd.DataFrame()"
   ]
  },
  {
   "cell_type": "code",
   "execution_count": 25,
   "id": "28b7bf8f",
   "metadata": {},
   "outputs": [],
   "source": [
    "# Create a mixed type column\n",
    "\n",
    "df_test['mix'] = ['a', 'b', 1, True]"
   ]
  },
  {
   "cell_type": "code",
   "execution_count": 26,
   "id": "3329cdc6",
   "metadata": {},
   "outputs": [
    {
     "data": {
      "text/html": [
       "<div>\n",
       "<style scoped>\n",
       "    .dataframe tbody tr th:only-of-type {\n",
       "        vertical-align: middle;\n",
       "    }\n",
       "\n",
       "    .dataframe tbody tr th {\n",
       "        vertical-align: top;\n",
       "    }\n",
       "\n",
       "    .dataframe thead th {\n",
       "        text-align: right;\n",
       "    }\n",
       "</style>\n",
       "<table border=\"1\" class=\"dataframe\">\n",
       "  <thead>\n",
       "    <tr style=\"text-align: right;\">\n",
       "      <th></th>\n",
       "      <th>mix</th>\n",
       "    </tr>\n",
       "  </thead>\n",
       "  <tbody>\n",
       "    <tr>\n",
       "      <th>0</th>\n",
       "      <td>a</td>\n",
       "    </tr>\n",
       "    <tr>\n",
       "      <th>1</th>\n",
       "      <td>b</td>\n",
       "    </tr>\n",
       "    <tr>\n",
       "      <th>2</th>\n",
       "      <td>1</td>\n",
       "    </tr>\n",
       "    <tr>\n",
       "      <th>3</th>\n",
       "      <td>True</td>\n",
       "    </tr>\n",
       "  </tbody>\n",
       "</table>\n",
       "</div>"
      ],
      "text/plain": [
       "    mix\n",
       "0     a\n",
       "1     b\n",
       "2     1\n",
       "3  True"
      ]
     },
     "execution_count": 26,
     "metadata": {},
     "output_type": "execute_result"
    }
   ],
   "source": [
    "df_test.head()"
   ]
  },
  {
   "cell_type": "code",
   "execution_count": 27,
   "id": "ae11f207",
   "metadata": {},
   "outputs": [
    {
     "name": "stdout",
     "output_type": "stream",
     "text": [
      "mix\n"
     ]
    }
   ],
   "source": [
    "# Finding mixed-type columns\n",
    "\n",
    "for col in df_test.columns.tolist():\n",
    "  weird = (df_test[[col]].map(type) != df_test[[col]].iloc[0].apply(type)).any(axis = 1)\n",
    "  if len (df_test[weird]) > 0:\n",
    "    print (col)"
   ]
  },
  {
   "cell_type": "code",
   "execution_count": 28,
   "id": "5a5fb32c",
   "metadata": {},
   "outputs": [
    {
     "data": {
      "text/plain": [
       "product_id        0\n",
       "product_name     16\n",
       "aisle_id          0\n",
       "department_id     0\n",
       "prices            0\n",
       "dtype: int64"
      ]
     },
     "execution_count": 28,
     "metadata": {},
     "output_type": "execute_result"
    }
   ],
   "source": [
    "# Finding mising values\n",
    "\n",
    "df_prods.isnull().sum()"
   ]
  },
  {
   "cell_type": "code",
   "execution_count": 29,
   "id": "0493ea4b",
   "metadata": {},
   "outputs": [],
   "source": [
    "# Creatie a new dataframe to view the 16 missing values\n",
    "\n",
    "df_nan = df_prods[df_prods['product_name'].isnull() == True]"
   ]
  },
  {
   "cell_type": "code",
   "execution_count": 30,
   "id": "9c1d85f1",
   "metadata": {},
   "outputs": [
    {
     "data": {
      "text/html": [
       "<div>\n",
       "<style scoped>\n",
       "    .dataframe tbody tr th:only-of-type {\n",
       "        vertical-align: middle;\n",
       "    }\n",
       "\n",
       "    .dataframe tbody tr th {\n",
       "        vertical-align: top;\n",
       "    }\n",
       "\n",
       "    .dataframe thead th {\n",
       "        text-align: right;\n",
       "    }\n",
       "</style>\n",
       "<table border=\"1\" class=\"dataframe\">\n",
       "  <thead>\n",
       "    <tr style=\"text-align: right;\">\n",
       "      <th></th>\n",
       "      <th>product_id</th>\n",
       "      <th>product_name</th>\n",
       "      <th>aisle_id</th>\n",
       "      <th>department_id</th>\n",
       "      <th>prices</th>\n",
       "    </tr>\n",
       "  </thead>\n",
       "  <tbody>\n",
       "    <tr>\n",
       "      <th>33</th>\n",
       "      <td>34</td>\n",
       "      <td>NaN</td>\n",
       "      <td>121</td>\n",
       "      <td>14</td>\n",
       "      <td>12.2</td>\n",
       "    </tr>\n",
       "    <tr>\n",
       "      <th>68</th>\n",
       "      <td>69</td>\n",
       "      <td>NaN</td>\n",
       "      <td>26</td>\n",
       "      <td>7</td>\n",
       "      <td>11.8</td>\n",
       "    </tr>\n",
       "    <tr>\n",
       "      <th>115</th>\n",
       "      <td>116</td>\n",
       "      <td>NaN</td>\n",
       "      <td>93</td>\n",
       "      <td>3</td>\n",
       "      <td>10.8</td>\n",
       "    </tr>\n",
       "    <tr>\n",
       "      <th>261</th>\n",
       "      <td>262</td>\n",
       "      <td>NaN</td>\n",
       "      <td>110</td>\n",
       "      <td>13</td>\n",
       "      <td>12.1</td>\n",
       "    </tr>\n",
       "    <tr>\n",
       "      <th>525</th>\n",
       "      <td>525</td>\n",
       "      <td>NaN</td>\n",
       "      <td>109</td>\n",
       "      <td>11</td>\n",
       "      <td>1.2</td>\n",
       "    </tr>\n",
       "    <tr>\n",
       "      <th>1511</th>\n",
       "      <td>1511</td>\n",
       "      <td>NaN</td>\n",
       "      <td>84</td>\n",
       "      <td>16</td>\n",
       "      <td>14.3</td>\n",
       "    </tr>\n",
       "    <tr>\n",
       "      <th>1780</th>\n",
       "      <td>1780</td>\n",
       "      <td>NaN</td>\n",
       "      <td>126</td>\n",
       "      <td>11</td>\n",
       "      <td>12.3</td>\n",
       "    </tr>\n",
       "    <tr>\n",
       "      <th>2240</th>\n",
       "      <td>2240</td>\n",
       "      <td>NaN</td>\n",
       "      <td>52</td>\n",
       "      <td>1</td>\n",
       "      <td>14.2</td>\n",
       "    </tr>\n",
       "    <tr>\n",
       "      <th>2586</th>\n",
       "      <td>2586</td>\n",
       "      <td>NaN</td>\n",
       "      <td>104</td>\n",
       "      <td>13</td>\n",
       "      <td>12.4</td>\n",
       "    </tr>\n",
       "    <tr>\n",
       "      <th>3159</th>\n",
       "      <td>3159</td>\n",
       "      <td>NaN</td>\n",
       "      <td>126</td>\n",
       "      <td>11</td>\n",
       "      <td>13.1</td>\n",
       "    </tr>\n",
       "    <tr>\n",
       "      <th>3230</th>\n",
       "      <td>3230</td>\n",
       "      <td>NaN</td>\n",
       "      <td>120</td>\n",
       "      <td>16</td>\n",
       "      <td>14.4</td>\n",
       "    </tr>\n",
       "    <tr>\n",
       "      <th>3736</th>\n",
       "      <td>3736</td>\n",
       "      <td>NaN</td>\n",
       "      <td>41</td>\n",
       "      <td>8</td>\n",
       "      <td>14.8</td>\n",
       "    </tr>\n",
       "    <tr>\n",
       "      <th>4283</th>\n",
       "      <td>4283</td>\n",
       "      <td>NaN</td>\n",
       "      <td>77</td>\n",
       "      <td>7</td>\n",
       "      <td>14.4</td>\n",
       "    </tr>\n",
       "    <tr>\n",
       "      <th>4790</th>\n",
       "      <td>4790</td>\n",
       "      <td>NaN</td>\n",
       "      <td>91</td>\n",
       "      <td>16</td>\n",
       "      <td>14.5</td>\n",
       "    </tr>\n",
       "    <tr>\n",
       "      <th>38187</th>\n",
       "      <td>38183</td>\n",
       "      <td>NaN</td>\n",
       "      <td>39</td>\n",
       "      <td>12</td>\n",
       "      <td>20.9</td>\n",
       "    </tr>\n",
       "    <tr>\n",
       "      <th>40444</th>\n",
       "      <td>40440</td>\n",
       "      <td>NaN</td>\n",
       "      <td>120</td>\n",
       "      <td>16</td>\n",
       "      <td>14.8</td>\n",
       "    </tr>\n",
       "  </tbody>\n",
       "</table>\n",
       "</div>"
      ],
      "text/plain": [
       "       product_id product_name  aisle_id  department_id  prices\n",
       "33             34          NaN       121             14    12.2\n",
       "68             69          NaN        26              7    11.8\n",
       "115           116          NaN        93              3    10.8\n",
       "261           262          NaN       110             13    12.1\n",
       "525           525          NaN       109             11     1.2\n",
       "1511         1511          NaN        84             16    14.3\n",
       "1780         1780          NaN       126             11    12.3\n",
       "2240         2240          NaN        52              1    14.2\n",
       "2586         2586          NaN       104             13    12.4\n",
       "3159         3159          NaN       126             11    13.1\n",
       "3230         3230          NaN       120             16    14.4\n",
       "3736         3736          NaN        41              8    14.8\n",
       "4283         4283          NaN        77              7    14.4\n",
       "4790         4790          NaN        91             16    14.5\n",
       "38187       38183          NaN        39             12    20.9\n",
       "40444       40440          NaN       120             16    14.8"
      ]
     },
     "execution_count": 30,
     "metadata": {},
     "output_type": "execute_result"
    }
   ],
   "source": [
    "df_nan"
   ]
  },
  {
   "cell_type": "code",
   "execution_count": 31,
   "id": "85f8bc7d",
   "metadata": {},
   "outputs": [
    {
     "data": {
      "text/plain": [
       "(49693, 5)"
      ]
     },
     "execution_count": 31,
     "metadata": {},
     "output_type": "execute_result"
    }
   ],
   "source": [
    "df_prods.shape"
   ]
  },
  {
   "cell_type": "code",
   "execution_count": 32,
   "id": "eeca5788",
   "metadata": {},
   "outputs": [],
   "source": [
    "# New dataframe to remove the missing values\n",
    "\n",
    "df_prods_clean = df_prods[df_prods['product_name'].isnull() == False]"
   ]
  },
  {
   "cell_type": "code",
   "execution_count": 33,
   "id": "7e4d1425",
   "metadata": {},
   "outputs": [
    {
     "data": {
      "text/plain": [
       "(49677, 5)"
      ]
     },
     "execution_count": 33,
     "metadata": {},
     "output_type": "execute_result"
    }
   ],
   "source": [
    "# check to see if the number of rows has decreased\n",
    "\n",
    "df_prods_clean.shape"
   ]
  },
  {
   "cell_type": "code",
   "execution_count": 34,
   "id": "f72d05a4",
   "metadata": {},
   "outputs": [],
   "source": [
    "# Finding duplicates\n",
    "\n",
    "df_dups = df_prods_clean[df_prods_clean.duplicated()]"
   ]
  },
  {
   "cell_type": "code",
   "execution_count": 35,
   "id": "b82d81f0",
   "metadata": {},
   "outputs": [
    {
     "data": {
      "text/html": [
       "<div>\n",
       "<style scoped>\n",
       "    .dataframe tbody tr th:only-of-type {\n",
       "        vertical-align: middle;\n",
       "    }\n",
       "\n",
       "    .dataframe tbody tr th {\n",
       "        vertical-align: top;\n",
       "    }\n",
       "\n",
       "    .dataframe thead th {\n",
       "        text-align: right;\n",
       "    }\n",
       "</style>\n",
       "<table border=\"1\" class=\"dataframe\">\n",
       "  <thead>\n",
       "    <tr style=\"text-align: right;\">\n",
       "      <th></th>\n",
       "      <th>product_id</th>\n",
       "      <th>product_name</th>\n",
       "      <th>aisle_id</th>\n",
       "      <th>department_id</th>\n",
       "      <th>prices</th>\n",
       "    </tr>\n",
       "  </thead>\n",
       "  <tbody>\n",
       "    <tr>\n",
       "      <th>462</th>\n",
       "      <td>462</td>\n",
       "      <td>Fiber 4g Gummy Dietary Supplement</td>\n",
       "      <td>70</td>\n",
       "      <td>11</td>\n",
       "      <td>4.8</td>\n",
       "    </tr>\n",
       "    <tr>\n",
       "      <th>18459</th>\n",
       "      <td>18458</td>\n",
       "      <td>Ranger IPA</td>\n",
       "      <td>27</td>\n",
       "      <td>5</td>\n",
       "      <td>9.2</td>\n",
       "    </tr>\n",
       "    <tr>\n",
       "      <th>26810</th>\n",
       "      <td>26808</td>\n",
       "      <td>Black House Coffee Roasty Stout Beer</td>\n",
       "      <td>27</td>\n",
       "      <td>5</td>\n",
       "      <td>13.4</td>\n",
       "    </tr>\n",
       "    <tr>\n",
       "      <th>35309</th>\n",
       "      <td>35306</td>\n",
       "      <td>Gluten Free Organic Peanut Butter &amp; Chocolate ...</td>\n",
       "      <td>121</td>\n",
       "      <td>14</td>\n",
       "      <td>6.8</td>\n",
       "    </tr>\n",
       "    <tr>\n",
       "      <th>35495</th>\n",
       "      <td>35491</td>\n",
       "      <td>Adore Forever Body Wash</td>\n",
       "      <td>127</td>\n",
       "      <td>11</td>\n",
       "      <td>9.9</td>\n",
       "    </tr>\n",
       "  </tbody>\n",
       "</table>\n",
       "</div>"
      ],
      "text/plain": [
       "       product_id                                       product_name  \\\n",
       "462           462                  Fiber 4g Gummy Dietary Supplement   \n",
       "18459       18458                                         Ranger IPA   \n",
       "26810       26808               Black House Coffee Roasty Stout Beer   \n",
       "35309       35306  Gluten Free Organic Peanut Butter & Chocolate ...   \n",
       "35495       35491                            Adore Forever Body Wash   \n",
       "\n",
       "       aisle_id  department_id  prices  \n",
       "462          70             11     4.8  \n",
       "18459        27              5     9.2  \n",
       "26810        27              5    13.4  \n",
       "35309       121             14     6.8  \n",
       "35495       127             11     9.9  "
      ]
     },
     "execution_count": 35,
     "metadata": {},
     "output_type": "execute_result"
    }
   ],
   "source": [
    "df_dups"
   ]
  },
  {
   "cell_type": "code",
   "execution_count": 36,
   "id": "4cf3ec14",
   "metadata": {},
   "outputs": [
    {
     "data": {
      "text/plain": [
       "(49677, 5)"
      ]
     },
     "execution_count": 36,
     "metadata": {},
     "output_type": "execute_result"
    }
   ],
   "source": [
    "df_prods_clean.shape"
   ]
  },
  {
   "cell_type": "code",
   "execution_count": 37,
   "id": "6cc859e6",
   "metadata": {},
   "outputs": [],
   "source": [
    "# Create a new dataframe that doesn't include the duplicates\n",
    "\n",
    "df_prods_clean_no_dups = df_prods_clean.drop_duplicates()"
   ]
  },
  {
   "cell_type": "code",
   "execution_count": 38,
   "id": "0fe271b0",
   "metadata": {},
   "outputs": [
    {
     "data": {
      "text/plain": [
       "(49672, 5)"
      ]
     },
     "execution_count": 38,
     "metadata": {},
     "output_type": "execute_result"
    }
   ],
   "source": [
    "df_prods_clean_no_dups.shape"
   ]
  },
  {
   "cell_type": "code",
   "execution_count": 47,
   "id": "fbae35ec",
   "metadata": {
    "scrolled": true
   },
   "outputs": [],
   "source": [
    "# Export the new dataframe\n",
    "\n",
    "df_prods_clean_no_dups.to_csv(os.path.join(path, '02 Data', 'Prepared Data', 'products_checked.csv'), index = False)"
   ]
  },
  {
   "cell_type": "markdown",
   "id": "bd93569a",
   "metadata": {},
   "source": [
    "# 04. 4.5 Task"
   ]
  },
  {
   "cell_type": "code",
   "execution_count": null,
   "id": "1cb0f6d3",
   "metadata": {},
   "outputs": [],
   "source": [
    "# Run the df.describe() function on your df_ords dataframe. Using your new knowledge about how to interpret the output of this function, share in a markdown cell whether anything about the data looks off or should be investigated further.\n",
    "\n",
    "df_ords.describe()"
   ]
  },
  {
   "cell_type": "code",
   "execution_count": null,
   "id": "22f095d1",
   "metadata": {},
   "outputs": [],
   "source": [
    "# The max for order_hour_of_day is 2.3 which seems odd when the min is 0 and it runs on a 24 hr clock. Similarly the days_since_prior_order max is only 3, and there are fewer value counts for this than any other column which suggest missing values."
   ]
  },
  {
   "cell_type": "code",
   "execution_count": null,
   "id": "93ef02ae",
   "metadata": {},
   "outputs": [],
   "source": [
    "# Check for mixed-type data in your df_ords dataframe\n",
    "\n",
    "for col in df_ords.columns.tolist():\n",
    "  weird = (df_ords[[col]].map(type) != df_ords[[col]].iloc[0].apply(type)).any(axis = 1)\n",
    "  if len (df_ords[weird]) > 0:\n",
    "    print (col)"
   ]
  },
  {
   "cell_type": "code",
   "execution_count": null,
   "id": "8bd119bb",
   "metadata": {},
   "outputs": [],
   "source": [
    "# There are no mixed-type columns in the df_ords dataframe"
   ]
  },
  {
   "cell_type": "code",
   "execution_count": null,
   "id": "e12f52f1",
   "metadata": {},
   "outputs": [],
   "source": [
    "# Run a check for missing values in your df_ords dataframe.\n",
    "\n",
    "df_ords.isnull().sum()"
   ]
  },
  {
   "cell_type": "code",
   "execution_count": null,
   "id": "1fde9737",
   "metadata": {},
   "outputs": [],
   "source": [
    "# The days_since_prior_order has 206209 missing values which suggest they are missing because it was the persons first order. \n",
    "# Check to verify if the number_of_orders is 1 for the missing columns"
   ]
  },
  {
   "cell_type": "code",
   "execution_count": null,
   "id": "98d91a7e",
   "metadata": {},
   "outputs": [],
   "source": [
    "df_ords_prior = df_ords[df_ords['days_since_prior_order'].isnull()==True]"
   ]
  },
  {
   "cell_type": "code",
   "execution_count": null,
   "id": "b40ac1f9",
   "metadata": {},
   "outputs": [],
   "source": [
    "df_ords_prior"
   ]
  },
  {
   "cell_type": "code",
   "execution_count": null,
   "id": "885b3a7f",
   "metadata": {},
   "outputs": [],
   "source": [
    "# The df_ords_prior shows that when the order number is '1' then the 'days_since_prior_order' has a result of NaN. This verifies that the missing values are due to the customer not having placed an order before. "
   ]
  },
  {
   "cell_type": "code",
   "execution_count": null,
   "id": "66b89183",
   "metadata": {},
   "outputs": [],
   "source": [
    "# Address the missing values using an appropriate method. I will creat a new variable for the missing values. There is a large number of missing values and I don't want to alter the data by deleting them and using the meana or median would not give accurate results within the data."
   ]
  },
  {
   "cell_type": "code",
   "execution_count": null,
   "id": "a02eeca4",
   "metadata": {},
   "outputs": [],
   "source": [
    "#create a flag column. This will show true if it is the persons first order and flase if it is not.\n",
    "\n",
    "df_ords['first_order'] = df_ords['days_since_prior_order'].isnull() == True"
   ]
  },
  {
   "cell_type": "code",
   "execution_count": null,
   "id": "dd8ba44a",
   "metadata": {
    "scrolled": true
   },
   "outputs": [],
   "source": [
    "df_ords"
   ]
  },
  {
   "cell_type": "code",
   "execution_count": null,
   "id": "9027369f",
   "metadata": {},
   "outputs": [],
   "source": [
    "# Run a check for duplicate values in the df_ords data.\n",
    "\n",
    "df_ords_dup = df_ords[df_ords.duplicated()]"
   ]
  },
  {
   "cell_type": "code",
   "execution_count": null,
   "id": "93cefa71",
   "metadata": {},
   "outputs": [],
   "source": [
    "df_ords_dup"
   ]
  },
  {
   "cell_type": "code",
   "execution_count": null,
   "id": "24239388",
   "metadata": {},
   "outputs": [],
   "source": [
    "# Address the duplicates using an appropriate method.\n",
    "\n",
    "# There are no duplicate values found. "
   ]
  },
  {
   "cell_type": "code",
   "execution_count": null,
   "id": "c624f523",
   "metadata": {},
   "outputs": [],
   "source": [
    "# Export the df_ords \n",
    "\n",
    "df_ords.to_csv((r'C:\\Users\\marci\\OneDrive\\Desktop\\Career Foundary\\Instacart Basket Analysis\\02 Data\\Prepared Data/orders_checked.csv'), index = False)"
   ]
  },
  {
   "cell_type": "code",
   "execution_count": null,
   "id": "0094bdd3",
   "metadata": {},
   "outputs": [],
   "source": []
  }
 ],
 "metadata": {
  "kernelspec": {
   "display_name": "Python 3 (ipykernel)",
   "language": "python",
   "name": "python3"
  },
  "language_info": {
   "codemirror_mode": {
    "name": "ipython",
    "version": 3
   },
   "file_extension": ".py",
   "mimetype": "text/x-python",
   "name": "python",
   "nbconvert_exporter": "python",
   "pygments_lexer": "ipython3",
   "version": "3.11.5"
  }
 },
 "nbformat": 4,
 "nbformat_minor": 5
}
